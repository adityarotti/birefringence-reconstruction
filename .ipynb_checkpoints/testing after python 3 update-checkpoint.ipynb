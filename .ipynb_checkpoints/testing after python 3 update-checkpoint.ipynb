{
 "cells": [
  {
   "cell_type": "code",
   "execution_count": 1,
   "id": "caa15ae1",
   "metadata": {},
   "outputs": [
    {
     "ename": "ModuleNotFoundError",
     "evalue": "No module named 'eb_noise_sampL'",
     "output_type": "error",
     "traceback": [
      "\u001b[0;31m---------------------------------------------------------------------------\u001b[0m",
      "\u001b[0;31mModuleNotFoundError\u001b[0m                       Traceback (most recent call last)",
      "\u001b[0;32m<ipython-input-1-1adc57290646>\u001b[0m in \u001b[0;36m<module>\u001b[0;34m\u001b[0m\n\u001b[0;32m----> 1\u001b[0;31m \u001b[0;32mfrom\u001b[0m \u001b[0mmodules\u001b[0m\u001b[0;34m.\u001b[0m\u001b[0mcalc_EB_rec_noise\u001b[0m\u001b[0;34m.\u001b[0m\u001b[0mfast_calc_eb_rec_noise\u001b[0m \u001b[0;32mimport\u001b[0m \u001b[0mrec_noise\u001b[0m\u001b[0;34m\u001b[0m\u001b[0;34m\u001b[0m\u001b[0m\n\u001b[0m",
      "\u001b[0;32m~/Documents/Work/Projects/Quadratic estimators/birefringence-reconstruction/modules/calc_EB_rec_noise/fast_calc_eb_rec_noise.py\u001b[0m in \u001b[0;36m<module>\u001b[0;34m\u001b[0m\n\u001b[1;32m      2\u001b[0m \u001b[0msys\u001b[0m\u001b[0;34m.\u001b[0m\u001b[0mpath\u001b[0m\u001b[0;34m.\u001b[0m\u001b[0mappend\u001b[0m\u001b[0;34m(\u001b[0m\u001b[0;34m\"./\"\u001b[0m\u001b[0;34m)\u001b[0m\u001b[0;34m\u001b[0m\u001b[0;34m\u001b[0m\u001b[0m\n\u001b[1;32m      3\u001b[0m \u001b[0;32mimport\u001b[0m \u001b[0mnumpy\u001b[0m \u001b[0;32mas\u001b[0m \u001b[0mnp\u001b[0m\u001b[0;34m\u001b[0m\u001b[0;34m\u001b[0m\u001b[0m\n\u001b[0;32m----> 4\u001b[0;31m \u001b[0;32mfrom\u001b[0m \u001b[0meb_noise_sampL\u001b[0m \u001b[0;32mimport\u001b[0m \u001b[0mrec_noise\u001b[0m\u001b[0;34m\u001b[0m\u001b[0;34m\u001b[0m\u001b[0m\n\u001b[0m\u001b[1;32m      5\u001b[0m \u001b[0;34m\u001b[0m\u001b[0m\n\u001b[1;32m      6\u001b[0m \u001b[0;32mdef\u001b[0m \u001b[0mcalc_eb_rec_noise\u001b[0m\u001b[0;34m(\u001b[0m\u001b[0mclee_thry\u001b[0m\u001b[0;34m,\u001b[0m\u001b[0mclee_obs\u001b[0m\u001b[0;34m,\u001b[0m\u001b[0mclbb_obs\u001b[0m\u001b[0;34m,\u001b[0m\u001b[0mellmin\u001b[0m\u001b[0;34m,\u001b[0m\u001b[0mellmax\u001b[0m\u001b[0;34m,\u001b[0m\u001b[0mLmax\u001b[0m\u001b[0;34m,\u001b[0m\u001b[0mnsamples\u001b[0m\u001b[0;34m=\u001b[0m\u001b[0;36m40\u001b[0m\u001b[0;34m)\u001b[0m\u001b[0;34m:\u001b[0m\u001b[0;34m\u001b[0m\u001b[0;34m\u001b[0m\u001b[0m\n",
      "\u001b[0;31mModuleNotFoundError\u001b[0m: No module named 'eb_noise_sampL'"
     ]
    }
   ],
   "source": [
    "from modules.calc_EB_rec_noise.fast_calc_eb_rec_noise import rec_noise"
   ]
  },
  {
   "cell_type": "code",
   "execution_count": 2,
   "id": "ecc8977a",
   "metadata": {},
   "outputs": [],
   "source": [
    "from modules.calc_EB_rec_noise.eb_noise_sampL import rec_noise"
   ]
  },
  {
   "cell_type": "code",
   "execution_count": null,
   "id": "d3f5291a",
   "metadata": {},
   "outputs": [],
   "source": []
  }
 ],
 "metadata": {
  "kernelspec": {
   "display_name": "Python 3",
   "language": "python",
   "name": "python3"
  },
  "language_info": {
   "codemirror_mode": {
    "name": "ipython",
    "version": 3
   },
   "file_extension": ".py",
   "mimetype": "text/x-python",
   "name": "python",
   "nbconvert_exporter": "python",
   "pygments_lexer": "ipython3",
   "version": "3.7.10"
  },
  "toc": {
   "base_numbering": 1,
   "nav_menu": {},
   "number_sections": true,
   "sideBar": true,
   "skip_h1_title": false,
   "title_cell": "Table of Contents",
   "title_sidebar": "Contents",
   "toc_cell": false,
   "toc_position": {},
   "toc_section_display": true,
   "toc_window_display": true
  }
 },
 "nbformat": 4,
 "nbformat_minor": 5
}
