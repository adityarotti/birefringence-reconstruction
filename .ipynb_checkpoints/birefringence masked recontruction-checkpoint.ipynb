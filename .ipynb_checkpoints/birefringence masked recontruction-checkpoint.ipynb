{
 "cells": [
  {
   "cell_type": "code",
   "execution_count": null,
   "metadata": {
    "collapsed": false,
    "deletable": true,
    "editable": true
   },
   "outputs": [],
   "source": [
    "import os\n",
    "import healpy as h\n",
    "import collections\n",
    "from modules.calc_EB_rec_noise.fast_calc_eb_rec_noise import calc_eb_rec_noise\n",
    "from modules.calc_TB_rec_noise.fast_calc_tb_rec_noise import calc_tb_rec_noise\n",
    "from modules import eb_rec\n",
    "from modules import tb_rec\n",
    "\n",
    "from astropy.io import fits\n",
    "figpath=\"./masked_null_test/\"\n",
    "\n",
    "def ensure_dir(file_path):\n",
    "    directory = os.path.dirname(file_path)\n",
    "    if not os.path.exists(directory):\n",
    "        os.makedirs(directory)\n",
    "        \n",
    "ensure_dir(figpath)\n",
    "\n",
    "# jpegpath=figpath + \"/jpeg/\" ; ensure_dir(jpegpath)\n",
    "datapath=figpath + \"/data/\" ; ensure_dir(datapath)\n",
    "\n",
    "%pylab notebook\n",
    "\n",
    "def return_Nl(fwhm,noise_rms,lmax):\n",
    "    ell=np.arange(lmax+1)\n",
    "    noise_rms=noise_rms*(1./60.)*(np.pi/180.)\n",
    "    thetab=((fwhm/60.)*np.pi/180.)/np.sqrt(8.*np.log(2))\n",
    "    Bl=exp(thetab**2 *(ell*(ell+1))/2)\n",
    "    return ell,noise_rms**2. * Bl**2."
   ]
  },
  {
   "cell_type": "markdown",
   "metadata": {
    "deletable": true,
    "editable": true
   },
   "source": [
    "# Theory spectra"
   ]
  },
  {
   "cell_type": "code",
   "execution_count": null,
   "metadata": {
    "collapsed": true
   },
   "outputs": [],
   "source": [
    "nside=512\n",
    "lmin=2\n",
    "lmax=1024\n",
    "Lmax=1024"
   ]
  },
  {
   "cell_type": "code",
   "execution_count": null,
   "metadata": {
    "collapsed": false,
    "deletable": true,
    "editable": true
   },
   "outputs": [],
   "source": [
    "nside=512\n",
    "lmin=100\n",
    "lmax=1024\n",
    "Lmax=1024\n",
    "\n",
    "clthry=np.loadtxt(\"../T2P_leakage/planck_2015_cmb/planck_2015_cmb_totCls.dat\")\n",
    "clthry=np.loadtxt(\"../T2P_leakage/planck_2015_cmb/planck_2015_cmb_lensedCls.dat\")\n",
    "\n",
    "maxell=3500\n",
    "ell=clthry[:maxell+1,0] ; fl=ell*(ell+1)/(2.*pi)\n",
    "cltt=clthry[:maxell+1,1]/fl ; cltt=append([0.,0.],cltt)\n",
    "clee=clthry[:maxell+1,2]/fl ; clee=append([0.,0.],clee)\n",
    "clbb=clthry[:maxell+1,3]/fl ; clbb=append([0.,0.],clbb)\n",
    "clte=clthry[:maxell+1,4]/fl ; clte=append([0.,0.],clte)\n",
    "ell=append([0.,1,],ell) ; fl=ell*(ell+1)/(2.*pi)\n",
    "clthr=[cltt,clee,clbb,clte]\n",
    "\n",
    "\n",
    "maskname=\"/Users/adityarotti/Documents/Work/Data/Planck/masks/HFI_Mask_GalPlane-apo2_2048_R2.00.fits\"\n",
    "mask=h.read_map(maskname,4,dtype=np.float64,verbose=False)\n",
    "mask=h.ud_grade(mask,nside)\n",
    "fsky=sum(mask)/size(mask)\n",
    "print fsky"
   ]
  },
  {
   "cell_type": "markdown",
   "metadata": {
    "deletable": true,
    "editable": true
   },
   "source": [
    "# Simulate"
   ]
  },
  {
   "cell_type": "code",
   "execution_count": null,
   "metadata": {
    "collapsed": false,
    "deletable": true,
    "editable": true,
    "scrolled": false
   },
   "outputs": [],
   "source": [
    "cmb=h.synfast(clthr,nside,new=True,pol=True,verbose=False,lmax=2*nside+200)\n",
    "\n",
    "ell=np.arange(Lmax+1).astype(np.float64) ; cl_alpha=np.zeros_like(ell)\n",
    "cl_alpha[1:]=1e-4*ell[1:]**-2.\n",
    "# cl_alpha[1:]=1e-4\n",
    "np.random.seed(0)\n",
    "alpha=h.synfast(cls=cl_alpha,nside=nside,verbose=False)\n",
    "clsig=h.alm2cl(h.map2alm(alpha,lmax=Lmax))\n",
    "\n",
    "obs=np.zeros_like(cmb)\n",
    "obs[0]=cmb[0]\n",
    "obs[1]=cmb[1] - alpha*cmb[2]\n",
    "obs[2]=cmb[2] + alpha*cmb[1]\n",
    "\n",
    "\n",
    "h.mollview(h.smoothing(alpha,fwhm=(30./60.)*np.pi/180.),title=r\"$\\alpha$\")\n",
    "figname=figpath + \"smoothed_alpha.pdf\"\n",
    "savefig(figname,bbox_inches=\"tight\")"
   ]
  },
  {
   "cell_type": "markdown",
   "metadata": {
    "deletable": true,
    "editable": true
   },
   "source": [
    "# QE analysis"
   ]
  },
  {
   "cell_type": "markdown",
   "metadata": {
    "deletable": true,
    "editable": true
   },
   "source": [
    "## Null analysis"
   ]
  },
  {
   "cell_type": "code",
   "execution_count": null,
   "metadata": {
    "collapsed": false,
    "deletable": true,
    "editable": true
   },
   "outputs": [],
   "source": [
    "eb_pcmb=eb_rec.opt_eb_qe(cmb,clthr,lmax,Lmax,mask=mask,ellmin=lmin)\n",
    "eb_pcmb.eb_reconstruct()\n",
    "\n",
    "eb_cmb=eb_rec.opt_eb_qe(cmb,clthr,lmax,Lmax,ellmin=lmin)\n",
    "eb_cmb.eb_reconstruct()\n",
    "\n",
    "fig,ax=subplots(ncols=2,nrows=1,sharey=True,figsize=[10,5])\n",
    "ax[0].plot(eb_cmb.Cl_rec_alpha,label=\"Est. rec. noise\")\n",
    "ax[0].plot(eb_cmb.N_L,label=\"Rec. noise\")\n",
    "ax[0].set_ylabel(r\"$N_{L}^{\\alpha}$\",fontsize=12)\n",
    "ax[0].set_xlabel(r\"Multipole $L$\",fontsize=12)\n",
    "ax[0].grid(alpha=0.2)\n",
    "ax[0].legend(loc=0)\n",
    "ax[0].set_title(\"Unmasked\")\n",
    "ax[1].plot(eb_pcmb.Cl_rec_alpha)\n",
    "ax[1].plot(eb_pcmb.N_L)\n",
    "ax[1].set_xlabel(r\"Multipole $L$\",fontsize=12)\n",
    "ax[1].grid(alpha=0.2)\n",
    "ax[1].set_title(\"Masked\")\n",
    "suptitle(r\"EB Reconstructed $\\alpha$\")\n",
    "figname=figpath + \"eb_null_masked_vs_unmasked_recnoise_lmin\" + str(lmin) + \"_lmax\" + str(lmax) + \"_Lmax\" + str(Lmax) + \".pdf\"\n",
    "savefig(figname,bbox_inches=\"tight\")\n",
    "\n",
    "fig, (ax1, ax2) = plt.subplots(ncols=2,figsize=[10,3.5])\n",
    "axes(ax1)\n",
    "h.mollview( eb_cmb.rec_alpha ,hold=True,title=\"Unmasked\",norm=\"hist\")\n",
    "axes(ax2)\n",
    "h.mollview( eb_pcmb.rec_alpha ,hold=True,title=\"Masked\",norm=\"hist\")\n",
    "suptitle(r\"EB Reconstructed $\\alpha$\")\n",
    "figname=figpath + \"eb_null_masked_vs_unmasked_reconstructed_alpha_lmin\" + str(lmin) + \"_lmax\" + str(lmax) + \"_Lmax\" + str(Lmax) + \".pdf\"\n",
    "savefig(figname,bbox_inches=\"tight\",dpi=300)"
   ]
  },
  {
   "cell_type": "code",
   "execution_count": null,
   "metadata": {
    "collapsed": false,
    "deletable": true,
    "editable": true
   },
   "outputs": [],
   "source": [
    "tb_pcmb=tb_rec.opt_tb_qe(cmb,clthr,lmax,Lmax,mask=mask,ellmin=lmin)\n",
    "tb_pcmb.tb_reconstruct()\n",
    "\n",
    "tb_cmb=tb_rec.opt_tb_qe(cmb,clthr,lmax,Lmax,ellmin=lmin)\n",
    "tb_cmb.tb_reconstruct()\n",
    "\n",
    "fig,ax=subplots(ncols=2,nrows=1,sharey=True,figsize=[10,5])\n",
    "ax[0].plot(tb_cmb.Cl_rec_alpha,label=\"Est. rec. noise\")\n",
    "ax[0].plot(tb_cmb.N_L,label=\"Tec. noise\")\n",
    "ax[0].set_ylabel(r\"$N_{L}^{\\alpha}$\",fontsize=12)\n",
    "ax[0].set_xlabel(r\"Multipole $L$\",fontsize=12)\n",
    "ax[0].grid(alpha=0.2)\n",
    "ax[0].legend(loc=0)\n",
    "ax[0].set_title(\"Unmasked\")\n",
    "ax[1].plot(tb_pcmb.Cl_rec_alpha)\n",
    "ax[1].plot(tb_pcmb.N_L)\n",
    "ax[1].set_xlabel(r\"Multipole $L$\",fontsize=12)\n",
    "ax[1].grid(alpha=0.2)\n",
    "ax[1].set_title(\"Masked\")\n",
    "suptitle(r\"TB Reconstructed $\\alpha$\")\n",
    "figname=figpath + \"tb_null_masked_vs_unmasked_recnoise_lmin\" + str(lmin) + \"_lmax\" + str(lmax) + \"_Lmax\" + str(Lmax) + \".pdf\"\n",
    "savefig(figname,bbox_inches=\"tight\")\n",
    "\n",
    "fig, (ax1, ax2) = plt.subplots(ncols=2,figsize=[10,3.5])\n",
    "axes(ax1)\n",
    "h.mollview( tb_cmb.rec_alpha ,hold=True,title=\"Unmasked\",norm=\"hist\")\n",
    "axes(ax2)\n",
    "h.mollview( tb_pcmb.rec_alpha ,hold=True,title=\"Masked\",norm=\"hist\")\n",
    "suptitle(r\"TB Reconstructed $\\alpha$\")\n",
    "figname=figpath + \"tb_null_masked_vs_unmasked_reconstructed_alpha_lmin\" + str(lmin) + \"_lmax\" + str(lmax) + \"_Lmax\" + str(Lmax) + \".pdf\"\n",
    "savefig(figname,bbox_inches=\"tight\",dpi=300)"
   ]
  },
  {
   "cell_type": "markdown",
   "metadata": {
    "deletable": true,
    "editable": true
   },
   "source": [
    "## Injected signal analysis"
   ]
  },
  {
   "cell_type": "code",
   "execution_count": null,
   "metadata": {
    "collapsed": false,
    "deletable": true,
    "editable": true
   },
   "outputs": [],
   "source": [
    "eb_pcmb=eb_rec.opt_eb_qe(obs,clthr,lmax,Lmax,mask=mask,ellmin=lmin)\n",
    "eb_pcmb.eb_reconstruct()\n",
    "\n",
    "eb_cmb=eb_rec.opt_eb_qe(obs,clthr,lmax,Lmax,ellmin=lmin)\n",
    "eb_cmb.eb_reconstruct()\n",
    "\n",
    "fig,ax=subplots(ncols=2,nrows=1,sharey=True,figsize=[10,5])\n",
    "ax[0].plot(eb_cmb.Cl_rec_alpha,label=r\"$\\hat{C}_{L}^{\\alpha} + N_{L}^{\\alpha}$\")\n",
    "ax[0].plot(eb_cmb.N_L,label=\"Rec. noise\")\n",
    "ax[0].plot(cl_alpha,label=r\"Injected C_{L}^{\\alpha}$\")\n",
    "ax[0].set_ylabel(r\"$N_{L}^{\\alpha}$\",fontsize=12)\n",
    "ax[0].set_xlabel(r\"Multipole $L$\",fontsize=12)\n",
    "ax[0].legend(loc=0)\n",
    "ax[0].grid(alpha=0.2)\n",
    "ax[0].set_title(\"Unmasked\")\n",
    "ax[0].loglog()\n",
    "ax[1].plot(eb_pcmb.Cl_rec_alpha)\n",
    "ax[1].plot(eb_pcmb.N_L)\n",
    "ax[1].plot(cl_alpha)\n",
    "ax[1].set_xlabel(r\"Multipole $L$\",fontsize=12)\n",
    "ax[1].grid(alpha=0.2)\n",
    "ax[1].loglog()\n",
    "ax[1].set_title(\"Masked\")\n",
    "suptitle(r\"EB Reconstructed $\\alpha$\")\n",
    "figname=figpath + \"eb_masked_vs_unmasked_recnoise_lmin\" + str(lmin) + \"_lmax\" + str(lmax) + \"_Lmax\" + str(Lmax) + \".pdf\"\n",
    "savefig(figname,bbox_inches=\"tight\")\n",
    "\n",
    "fig, (ax1, ax2,ax3) = plt.subplots(ncols=3,figsize=[12,2.5])\n",
    "axes(ax1)\n",
    "h.mollview(alpha,hold=True,title=\"Injected signal\",norm=\"hist\")\n",
    "axes(ax2)\n",
    "h.mollview( eb_cmb.wf_rec_alpha ,hold=True,title=\"Unmasked\",norm=\"hist\")\n",
    "axes(ax3)\n",
    "h.mollview( eb_pcmb.wf_rec_alpha ,hold=True,title=\"Masked\",norm=\"hist\")\n",
    "suptitle(r\"EB Reconstructed $\\alpha$\")\n",
    "figname=figpath + \"eb_masked_vs_unmasked_reconstructed_alpha_lmin\" + str(lmin) + \"_lmax\" + str(lmax) + \"_Lmax\" + str(Lmax) + \".pdf\"\n",
    "savefig(figname,bbox_inches=\"tight\",dpi=300)"
   ]
  },
  {
   "cell_type": "code",
   "execution_count": null,
   "metadata": {
    "collapsed": false,
    "deletable": true,
    "editable": true
   },
   "outputs": [],
   "source": [
    "tb_pcmb=tb_rec.opt_tb_qe(obs,clthr,lmax,Lmax,mask=mask,ellmin=lmin)\n",
    "tb_pcmb.tb_reconstruct()\n",
    "\n",
    "tb_cmb=tb_rec.opt_tb_qe(obs,clthr,lmax,Lmax,ellmin=lmin)\n",
    "tb_cmb.tb_reconstruct()\n",
    "\n",
    "fig,ax=subplots(ncols=2,nrows=1,sharey=True,figsize=[10,5])\n",
    "ax[0].plot(tb_cmb.Cl_rec_alpha,label=r\"$\\hat{C}_{L}^{\\alpha} + N_{L}^{\\alpha}$\")\n",
    "ax[0].plot(tb_cmb.N_L,label=\"Rec. noise\")\n",
    "ax[0].plot(cl_alpha,label=r\"Injected C_{L}^{\\alpha}$\")\n",
    "ax[0].set_ylabel(r\"$N_{L}^{\\alpha}$\",fontsize=12)\n",
    "ax[0].set_xlabel(r\"Multipole $L$\",fontsize=12)\n",
    "ax[0].legend(loc=0)\n",
    "ax[0].grid(alpha=0.2)\n",
    "ax[0].set_title(\"Unmasked\")\n",
    "ax[0].loglog()\n",
    "ax[1].plot(tb_pcmb.Cl_rec_alpha)\n",
    "ax[1].plot(tb_pcmb.N_L)\n",
    "ax[1].plot(cl_alpha)\n",
    "ax[1].set_xlabel(r\"Multipole $L$\",fontsize=12)\n",
    "ax[1].grid(alpha=0.2)\n",
    "ax[1].loglog()\n",
    "ax[1].set_title(\"Masked\")\n",
    "suptitle(r\"TB Reconstructed $\\alpha$\")\n",
    "figname=figpath + \"tb_masked_vs_unmasked_recnoise_lmin\" + str(lmin) + \"_lmax\" + str(lmax) + \"_Lmax\" + str(Lmax) + \".pdf\"\n",
    "savefig(figname,bbox_inches=\"tight\")\n",
    "\n",
    "fig, (ax1, ax2,ax3) = plt.subplots(ncols=3,figsize=[12,2.5])\n",
    "axes(ax1)\n",
    "h.mollview(alpha,hold=True,title=\"Injected signal\",norm=\"hist\")\n",
    "axes(ax2)\n",
    "h.mollview( tb_cmb.wf_rec_alpha ,hold=True,title=\"Unmasked\",norm=\"hist\")\n",
    "axes(ax3)\n",
    "h.mollview( tb_pcmb.wf_rec_alpha ,hold=True,title=\"Masked\",norm=\"hist\")\n",
    "suptitle(r\"TB Reconstructed $\\alpha$\")\n",
    "figname=figpath + \"tb_masked_vs_unmasked_reconstructed_alpha_lmin\" + str(lmin) + \"_lmax\" + str(lmax) + \"_Lmax\" + str(Lmax) + \".pdf\"\n",
    "savefig(figname,bbox_inches=\"tight\",dpi=300)"
   ]
  }
 ],
 "metadata": {
  "kernelspec": {
   "display_name": "Python 2",
   "language": "python",
   "name": "python2"
  },
  "language_info": {
   "codemirror_mode": {
    "name": "ipython",
    "version": 2
   },
   "file_extension": ".py",
   "mimetype": "text/x-python",
   "name": "python",
   "nbconvert_exporter": "python",
   "pygments_lexer": "ipython2",
   "version": "2.7.13"
  },
  "toc": {
   "base_numbering": 1,
   "nav_menu": {},
   "number_sections": true,
   "sideBar": true,
   "skip_h1_title": false,
   "title_cell": "Table of Contents",
   "title_sidebar": "Contents",
   "toc_cell": false,
   "toc_position": {},
   "toc_section_display": true,
   "toc_window_display": true
  }
 },
 "nbformat": 4,
 "nbformat_minor": 2
}
