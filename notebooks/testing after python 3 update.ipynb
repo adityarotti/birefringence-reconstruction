{
 "cells": [
  {
   "cell_type": "code",
   "execution_count": 2,
   "id": "b9322593",
   "metadata": {},
   "outputs": [],
   "source": [
    "from modules.calc_TB_rec_noise.fast_calc_tb_rec_noise import calc_tb_rec_noise\n",
    "from modules import eb_rec"
   ]
  },
  {
   "cell_type": "code",
   "execution_count": 3,
   "id": "0c14f0db",
   "metadata": {},
   "outputs": [],
   "source": [
    "from modules.calc_EB_rec_noise.fast_calc_eb_rec_noise import calc_eb_rec_noise"
   ]
  },
  {
   "cell_type": "code",
   "execution_count": null,
   "id": "0a7bb5a6",
   "metadata": {},
   "outputs": [],
   "source": []
  }
 ],
 "metadata": {
  "kernelspec": {
   "display_name": "Python 3",
   "language": "python",
   "name": "python3"
  },
  "language_info": {
   "codemirror_mode": {
    "name": "ipython",
    "version": 3
   },
   "file_extension": ".py",
   "mimetype": "text/x-python",
   "name": "python",
   "nbconvert_exporter": "python",
   "pygments_lexer": "ipython3",
   "version": "3.7.10"
  },
  "toc": {
   "base_numbering": 1,
   "nav_menu": {},
   "number_sections": true,
   "sideBar": true,
   "skip_h1_title": false,
   "title_cell": "Table of Contents",
   "title_sidebar": "Contents",
   "toc_cell": false,
   "toc_position": {},
   "toc_section_display": true,
   "toc_window_display": true
  }
 },
 "nbformat": 4,
 "nbformat_minor": 5
}
